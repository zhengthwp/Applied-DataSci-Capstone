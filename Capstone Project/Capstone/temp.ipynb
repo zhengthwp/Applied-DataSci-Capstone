{
 "cells": [
  {
   "cell_type": "code",
   "execution_count": 3,
   "metadata": {},
   "outputs": [],
   "source": [
    "import seaborn as sns\n",
    "from inspect import getmembers, isfunction\n"
   ]
  },
  {
   "cell_type": "code",
   "execution_count": 4,
   "metadata": {},
   "outputs": [
    {
     "name": "stdout",
     "output_type": "stream",
     "text": [
      "[('axes_style', <function axes_style at 0x0000022D118AF6A8>), ('barplot', <function barplot at 0x0000022D119E51E0>), ('blend_palette', <function blend_palette at 0x0000022D118AF268>), ('boxenplot', <function boxenplot at 0x0000022D119E5048>), ('boxplot', <function boxplot at 0x0000022D119E0E18>), ('catplot', <function catplot at 0x0000022D119E5400>), ('choose_colorbrewer_palette', <function choose_colorbrewer_palette at 0x0000022D11A72488>), ('choose_cubehelix_palette', <function choose_cubehelix_palette at 0x0000022D11A726A8>), ('choose_dark_palette', <function choose_dark_palette at 0x0000022D11A72510>), ('choose_diverging_palette', <function choose_diverging_palette at 0x0000022D11A72620>), ('choose_light_palette', <function choose_light_palette at 0x0000022D11A72598>), ('clustermap', <function clustermap at 0x0000022D11A71840>), ('color_palette', <function color_palette at 0x0000022D0F7E2400>), ('countplot', <function countplot at 0x0000022D119E52F0>), ('crayon_palette', <function crayon_palette at 0x0000022D118AF378>), ('cubehelix_palette', <function cubehelix_palette at 0x0000022D118AF400>), ('dark_palette', <function dark_palette at 0x0000022D118AF048>), ('desaturate', <function desaturate at 0x0000022D118950D0>), ('despine', <function despine at 0x0000022D118952F0>), ('distplot', <function distplot at 0x0000022D118CE9D8>), ('diverging_palette', <function diverging_palette at 0x0000022D118AF1E0>), ('dogplot', <function dogplot at 0x0000022D11A720D0>), ('factorplot', <function factorplot at 0x0000022D119E5378>), ('get_dataset_names', <function get_dataset_names at 0x0000022D118956A8>), ('heatmap', <function heatmap at 0x0000022D11A71048>), ('hls_palette', <function hls_palette at 0x0000022D11895D90>), ('husl_palette', <function husl_palette at 0x0000022D11895E18>), ('jointplot', <function jointplot at 0x0000022D119BDE18>), ('kdeplot', <function kdeplot at 0x0000022D119BA620>), ('light_palette', <function light_palette at 0x0000022D118AF0D0>), ('lineplot', <function lineplot at 0x0000022D119BB950>), ('lmplot', <function lmplot at 0x0000022D119BBAE8>), ('load_dataset', <function load_dataset at 0x0000022D118957B8>), ('lvplot', <function lvplot at 0x0000022D119E0F28>), ('mpl_palette', <function mpl_palette at 0x0000022D11895EA0>), ('pairplot', <function pairplot at 0x0000022D118CE158>), ('palplot', <function palplot at 0x0000022D11A72048>), ('plotting_context', <function plotting_context at 0x0000022D118AF7B8>), ('pointplot', <function pointplot at 0x0000022D119E5268>), ('regplot', <function regplot at 0x0000022D119C5598>), ('relplot', <function relplot at 0x0000022D119BBA60>), ('reset_defaults', <function reset_defaults at 0x0000022D118AF598>), ('reset_orig', <function reset_orig at 0x0000022D118AF620>), ('residplot', <function residplot at 0x0000022D119C5620>), ('rugplot', <function rugplot at 0x0000022D119BA6A8>), ('saturate', <function saturate at 0x0000022D11895158>), ('scatterplot', <function scatterplot at 0x0000022D119BB9D8>), ('set', <function set at 0x0000022D0F7E2378>), ('set_color_codes', <function set_color_codes at 0x0000022D118AF510>), ('set_context', <function set_context at 0x0000022D118AF840>), ('set_hls_values', <function set_hls_values at 0x0000022D118951E0>), ('set_palette', <function set_palette at 0x0000022D118AF8C8>), ('set_style', <function set_style at 0x0000022D118AF730>), ('stripplot', <function stripplot at 0x0000022D119E50D0>), ('swarmplot', <function swarmplot at 0x0000022D119E5158>), ('tsplot', <function tsplot at 0x0000022D119C5730>), ('violinplot', <function violinplot at 0x0000022D119E0EA0>), ('xkcd_palette', <function xkcd_palette at 0x0000022D118AF2F0>)]\n"
     ]
    }
   ],
   "source": [
    "print(getmembers(sns, isfunction))"
   ]
  },
  {
   "cell_type": "code",
   "execution_count": 5,
   "metadata": {},
   "outputs": [
    {
     "name": "stdout",
     "output_type": "stream",
     "text": [
      "Help on package seaborn:\n",
      "\n",
      "NAME\n",
      "    seaborn - # Capture the original matplotlib rcParams\n",
      "\n",
      "PACKAGE CONTENTS\n",
      "    algorithms\n",
      "    apionly\n",
      "    axisgrid\n",
      "    categorical\n",
      "    cm\n",
      "    colors (package)\n",
      "    conftest\n",
      "    distributions\n",
      "    external (package)\n",
      "    linearmodels\n",
      "    matrix\n",
      "    miscplot\n",
      "    palettes\n",
      "    rcmod\n",
      "    regression\n",
      "    relational\n",
      "    tests (package)\n",
      "    timeseries\n",
      "    utils\n",
      "    widgets\n",
      "\n",
      "DATA\n",
      "    crayons = {'Almond': '#EFDECD', 'Antique Brass': '#CD9575', 'Apricot':...\n",
      "    xkcd_rgb = {'acid green': '#8ffe09', 'adobe': '#bd6c48', 'algae': '#54...\n",
      "\n",
      "VERSION\n",
      "    0.9.0\n",
      "\n",
      "FILE\n",
      "    c:\\users\\larnluang\\anaconda3\\lib\\site-packages\\seaborn\\__init__.py\n",
      "\n",
      "\n"
     ]
    }
   ],
   "source": [
    "help(sns)"
   ]
  },
  {
   "cell_type": "code",
   "execution_count": null,
   "metadata": {},
   "outputs": [],
   "source": []
  }
 ],
 "metadata": {
  "kernelspec": {
   "display_name": "Python 3",
   "language": "python",
   "name": "python3"
  },
  "language_info": {
   "codemirror_mode": {
    "name": "ipython",
    "version": 3
   },
   "file_extension": ".py",
   "mimetype": "text/x-python",
   "name": "python",
   "nbconvert_exporter": "python",
   "pygments_lexer": "ipython3",
   "version": "3.7.3"
  }
 },
 "nbformat": 4,
 "nbformat_minor": 2
}
